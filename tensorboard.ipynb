{
 "cells": [
  {
   "cell_type": "code",
   "execution_count": null,
   "id": "c24487df",
   "metadata": {},
   "outputs": [],
   "source": [
    "import csv\n",
    "import time\n",
    "import os\n",
    "from tensorboardX import SummaryWriter\n",
    "\n",
    "csv_path = \"logs/metrics.csv\"    \n",
    "writer = SummaryWriter(\"logs/\" + str(time.time())  )\n",
    "\n",
    "last_epoch = -1\n",
    "\n",
    "while True:\n",
    "    if os.path.exists(\"log.csv\"):\n",
    "        with open(\"log.csv\", \"r\") as csvfile:\n",
    "            reader = csv.DictReader(csvfile)\n",
    "            for row in reader:\n",
    "                epoch = int(row[\"epoch\"])\n",
    "                if epoch > last_epoch:\n",
    "                    train_loss = float(row[\"train_loss\"])\n",
    "                    train_acc = float(row[\"train_acc\"])\n",
    "                    test_loss = float(row[\"test_loss\"])\n",
    "                    test_acc = float(row[\"test_acc\"])\n",
    "                    \n",
    "                    writer.add_scalar(\"Loss/Test\", test_loss, epoch)\n",
    "                    writer.add_scalar(\"Accuracy/Test\", test_acc, epoch)\n",
    "                    writer.add_scalar(\"Loss/Train\", train_loss, epoch)\n",
    "                    writer.add_scalar(\"Accuracy/Train\", train_acc, epoch)\n",
    "                    writer.flush()\n",
    "                    \n",
    "                    last_epoch = epoch\n",
    "\n",
    "    time.sleep(5)"
   ]
  }
 ],
 "metadata": {
  "kernelspec": {
   "display_name": "Python 3",
   "language": "python",
   "name": "python3"
  },
  "language_info": {
   "codemirror_mode": {
    "name": "ipython",
    "version": 3
   },
   "file_extension": ".py",
   "mimetype": "text/x-python",
   "name": "python",
   "nbconvert_exporter": "python",
   "pygments_lexer": "ipython3",
   "version": "3.10.6"
  }
 },
 "nbformat": 4,
 "nbformat_minor": 5
}
