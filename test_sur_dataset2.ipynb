{
 "cells": [
  {
   "cell_type": "code",
   "execution_count": 6,
   "id": "dd568abd",
   "metadata": {},
   "outputs": [],
   "source": [
    "import matplotlib.pyplot as plt\n",
    "import numpy as np\n",
    "from PIL import Image\n",
    "import os\n",
    "import time\n",
    "import pandas as pd\n",
    "\n",
    "mingw_bin = \"C:/msys64/mingw64/bin\"\n",
    "os.add_dll_directory(mingw_bin)\n",
    "import ctypes\n",
    "lin = ctypes.cdll.LoadLibrary(\"./cmake-build-release/liblinear_model.dll\")\n",
    "\n",
    "lin.create_linear_model.argtypes = [ctypes.c_int32]\n",
    "lin.create_linear_model.restype = ctypes.c_void_p\n",
    "\n",
    "lin.predict_linear_model.argtypes = [ctypes.c_void_p, ctypes.POINTER(ctypes.c_float)]\n",
    "lin.predict_linear_model.restype = ctypes.c_float\n",
    "\n",
    "lin.release_linear_model.argtypes = [ctypes.c_void_p]\n",
    "lin.release_linear_model.restype = None\n",
    "\n",
    "lin.train_linear_model.argtypes = [ctypes.c_void_p, ctypes.POINTER(ctypes.c_float), ctypes.POINTER(ctypes.c_float), ctypes.c_int32, ctypes.c_float, ctypes.c_int32]\n",
    "lin.train_linear_model.restype = None\n",
    "\n",
    "lin.create_ovo_classifier.argtypes = [ctypes.c_int32]\n",
    "lin.create_ovo_classifier.restype = ctypes.c_void_p\n",
    "\n",
    "lin.train_ovo_classifier.argtypes = [ctypes.c_void_p, ctypes.POINTER(ctypes.c_float), ctypes.POINTER(ctypes.c_int32), ctypes.c_int32, ctypes.c_int32, ctypes.c_float]\n",
    "lin.train_ovo_classifier.restype = None\n",
    "\n",
    "lin.predict_ovo_classifier.argtypes = [ctypes.c_void_p, ctypes.POINTER(ctypes.c_float)]\n",
    "lin.predict_ovo_classifier.restype = ctypes.c_int32\n",
    "\n",
    "lin.release_ovo_classifier.argtypes = [ctypes.c_void_p]\n",
    "lin.release_ovo_classifier.restype = None\n",
    "\n",
    "mlp = ctypes.cdll.LoadLibrary(\"./cmake-build-release/libmlp.dll\") \n",
    "\n",
    "mlp.create_mlp_model.argtypes = [ctypes.POINTER(ctypes.c_int), ctypes.c_int, ctypes.c_int]\n",
    "mlp.create_mlp_model.restype = ctypes.c_void_p\n",
    "\n",
    "mlp.train_mlp_model.argtypes = [\n",
    "    ctypes.c_void_p,\n",
    "    ctypes.POINTER(ctypes.c_float),\n",
    "    ctypes.POINTER(ctypes.c_float),\n",
    "    ctypes.c_int,\n",
    "    ctypes.c_int,\n",
    "    ctypes.c_float,\n",
    "    ctypes.c_int,\n",
    "    ctypes.POINTER(ctypes.c_float),\n",
    "    ctypes.POINTER(ctypes.c_float),\n",
    "    ctypes.c_int,\n",
    "    ctypes.c_char_p\n",
    "]\n",
    "mlp.predict_mlp_model.restype = ctypes.POINTER(ctypes.c_float)\n",
    "\n",
    "mlp.predict_mlp_model.argtypes = [\n",
    "    ctypes.c_void_p,\n",
    "    ctypes.POINTER(ctypes.c_float),\n",
    "]\n",
    "\n",
    "mlp.release_mlp_model.argtypes = [ctypes.c_void_p]\n",
    "\n",
    "mlp.get_confusion_matrix.argtypes = [ctypes.c_void_p, ctypes.POINTER(ctypes.c_int32)]\n",
    "mlp.get_confusion_matrix.restype = None\n",
    "\n",
    "mlp.evaluate_confusion_matrix.argtypes = [\n",
    "    ctypes.c_void_p,\n",
    "    ctypes.POINTER(ctypes.c_float),\n",
    "    ctypes.POINTER(ctypes.c_float),\n",
    "    ctypes.c_int\n",
    "]\n",
    "mlp.evaluate_confusion_matrix.restype = None\n",
    "\n",
    "mlp.save_mlp_model.argtypes = [ctypes.c_void_p, ctypes.c_char_p]\n",
    "\n",
    "mlp.load_mlp_model.argtypes = [ctypes.c_char_p]\n",
    "mlp.load_mlp_model.restype = ctypes.c_void_p\n",
    "\n",
    "\n",
    "LOG_FUNC_TYPE = ctypes.CFUNCTYPE(None, ctypes.c_char_p)\n",
    "\n",
    "@LOG_FUNC_TYPE\n",
    "def logger_callback(msg):\n",
    "    print(msg.decode())"
   ]
  },
  {
   "cell_type": "code",
   "execution_count": 7,
   "id": "1fea4d98",
   "metadata": {},
   "outputs": [],
   "source": [
    "classnames_array = ['Crocodile', 'Elephant', 'Gorille']\n",
    "size = 32"
   ]
  },
  {
   "cell_type": "markdown",
   "id": "78fec502",
   "metadata": {},
   "source": [
    "### Organisation du Dataset pour l'entrainement"
   ]
  },
  {
   "cell_type": "code",
   "execution_count": 8,
   "id": "f8eb284d",
   "metadata": {},
   "outputs": [],
   "source": [
    "data = []\n",
    "folder_path = './images32/'\n",
    "for classname in os.listdir(folder_path):  \n",
    "    for filename in os.listdir(folder_path + classname):\n",
    "        img = Image.open(folder_path + classname + '/' + filename)\n",
    "        index = classnames_array.index(classname)  \n",
    "        \n",
    "        one_hot = np.zeros(len(classnames_array), dtype=np.float32)\n",
    "        one_hot[index] = 1.0\n",
    "        \n",
    "        img_array = (np.array(img) / 255.0) - 1.0\n",
    "        data.append([one_hot, img_array])\n",
    "\n",
    "data = np.array(data, dtype=object)\n",
    "\n",
    "\n"
   ]
  },
  {
   "cell_type": "markdown",
   "id": "35929a87",
   "metadata": {},
   "source": [
    "### Test avec MLP"
   ]
  },
  {
   "cell_type": "code",
   "execution_count": null,
   "id": "831b2cb7",
   "metadata": {},
   "outputs": [
    {
     "ename": "TypeError",
     "evalue": "bytes or integer address expected instead of str instance",
     "output_type": "error",
     "traceback": [
      "\u001b[1;31m---------------------------------------------------------------------------\u001b[0m",
      "\u001b[1;31mTypeError\u001b[0m                                 Traceback (most recent call last)",
      "Cell \u001b[1;32mIn[9], line 31\u001b[0m\n\u001b[0;32m     28\u001b[0m         csvfile\u001b[38;5;241m.\u001b[39mwrite(\u001b[38;5;124m\"\u001b[39m\u001b[38;5;124mepoch,train_acc,train_loss,test_acc,test_loss\u001b[39m\u001b[38;5;130;01m\\n\u001b[39;00m\u001b[38;5;124m\"\u001b[39m)\n\u001b[0;32m     29\u001b[0m time\u001b[38;5;241m.\u001b[39msleep(\u001b[38;5;241m0.2\u001b[39m)\n\u001b[1;32m---> 31\u001b[0m mlp\u001b[38;5;241m.\u001b[39mtrain_mlp_model(model, X_train_c, Y_train_c, \u001b[38;5;28mlen\u001b[39m(data_train), epochs, learning_rate, batch_size, X_test_c, Y_test_c, \u001b[38;5;28mlen\u001b[39m(data_test), \u001b[43mctypes\u001b[49m\u001b[38;5;241;43m.\u001b[39;49m\u001b[43mc_char_p\u001b[49m\u001b[43m(\u001b[49m\u001b[43mcsv_path\u001b[49m\u001b[43m)\u001b[49m)\n\u001b[0;32m     33\u001b[0m output_dim \u001b[38;5;241m=\u001b[39m \u001b[38;5;28mlen\u001b[39m(classnames_array)\n\u001b[0;32m     34\u001b[0m matrix \u001b[38;5;241m=\u001b[39m (ctypes\u001b[38;5;241m.\u001b[39mc_int \u001b[38;5;241m*\u001b[39m (output_dim \u001b[38;5;241m*\u001b[39m output_dim))()\n",
      "\u001b[1;31mTypeError\u001b[0m: bytes or integer address expected instead of str instance"
     ]
    }
   ],
   "source": [
    "layer_sizes = [size*size*3, 256, 128, len(classnames_array)]\n",
    "layer_array = (ctypes.c_int * len(layer_sizes))(*layer_sizes)\n",
    "model = mlp.create_mlp_model(layer_array, len(layer_sizes) - 1, 20)\n",
    "mlp.set_logger(logger_callback)\n",
    "\n",
    "np.random.shuffle(data)\n",
    "split_index = int(len(data) * 0.8)\n",
    "data_train = data[:split_index]\n",
    "data_test = data[split_index:]\n",
    "X_train = np.array([item[1] for item in data_train], dtype=np.float32)\n",
    "Y_train = np.array([item[0] for item in data_train], dtype=np.float32)\n",
    "X_test = np.array([item[1] for item in data_test], dtype=np.float32)\n",
    "Y_test = np.array([item[0] for item in data_test], dtype=np.float32)\n",
    "\n",
    "X_train_reshaped = X_train.reshape((X_train.shape[0], -1))\n",
    "X_train_c = X_train_reshaped.ctypes.data_as(ctypes.POINTER(ctypes.c_float))\n",
    "Y_train_c = Y_train.ctypes.data_as(ctypes.POINTER(ctypes.c_float))\n",
    "X_test_reshaped = X_test.reshape((X_test.shape[0], -1))\n",
    "X_test_c = X_test_reshaped.ctypes.data_as(ctypes.POINTER(ctypes.c_float))\n",
    "Y_test_c = Y_test.ctypes.data_as(ctypes.POINTER(ctypes.c_float))\n",
    "\n",
    "epochs = 15000\n",
    "learning_rate = 0.005\n",
    "batch_size = 32\n",
    "csv_path = \"log2.csv\"\n",
    "with open(csv_path, \"w\") as csvfile:\n",
    "        csvfile.truncate()\n",
    "        csvfile.write(\"epoch,train_acc,train_loss,test_acc,test_loss\\n\")\n",
    "time.sleep(0.2)\n",
    "\n",
    "csv_path = csv_path\n",
    "mlp.train_mlp_model(model, X_train_c, Y_train_c, len(data_train), epochs, learning_rate, batch_size, X_test_c, Y_test_c, len(data_test), csv_path.encode())\n",
    "\n",
    "output_dim = len(classnames_array)\n",
    "matrix = (ctypes.c_int * (output_dim * output_dim))()\n",
    "mlp.evaluate_confusion_matrix(model, X_test_c, Y_test_c, len(data_test), True)\n",
    "mlp.get_confusion_matrix(model, matrix)\n",
    "\n",
    "confusion_np = np.ctypeslib.as_array(matrix).reshape((output_dim, output_dim))\n",
    "print(confusion_np)\n",
    "import seaborn as sns\n",
    "\n",
    "\n",
    "plt.figure(figsize=(8, 6))\n",
    "sns.set(font_scale=1.2)\n",
    "ax = sns.heatmap(confusion_np, annot=True, fmt='d', cmap='Blues', \n",
    "                 xticklabels=classnames_array, yticklabels=classnames_array,\n",
    "                 linewidths=1, linecolor='gray', cbar=True)\n",
    "\n",
    "plt.title(\"Matrice de confusion\", fontsize=16)\n",
    "plt.xlabel(\"Classe prédite\", fontsize=14)\n",
    "plt.ylabel(\"Classe réelle\", fontsize=14)\n",
    "plt.tight_layout()\n",
    "plt.show()\n",
    "\n",
    "import matplotlib.pyplot as plt\n",
    "\n",
    "df = pd.read_csv(\"log.csv\")\n",
    "\n",
    "plt.figure(figsize=(10, 5))\n",
    "plt.plot(df['epoch'], df['train_loss'], label='Train Loss', color='blue')\n",
    "plt.plot(df['epoch'], df['test_loss'], label='Test Loss', color='red')\n",
    "plt.xlabel('Epoch')\n",
    "plt.ylabel('Loss')\n",
    "plt.title('Train vs Test Loss')\n",
    "plt.legend()\n",
    "plt.grid(True)\n",
    "plt.tight_layout()\n",
    "plt.show()\n",
    "\n",
    "plt.figure(figsize=(10, 5))\n",
    "plt.plot(df['epoch'], df['train_acc'], label='Train Accuracy', color='green')\n",
    "plt.plot(df['epoch'], df['test_acc'], label='Test Accuracy', color='orange')\n",
    "plt.xlabel('Epoch')\n",
    "plt.ylabel('Accuracy (%)')\n",
    "plt.title('Train vs Test Accuracy')\n",
    "plt.legend()\n",
    "plt.grid(True)\n",
    "plt.tight_layout()\n",
    "plt.show()"
   ]
  },
  {
   "cell_type": "code",
   "execution_count": null,
   "id": "6043c8fb",
   "metadata": {},
   "outputs": [
    {
     "data": {
      "text/plain": [
       "1"
      ]
     },
     "execution_count": 7,
     "metadata": {},
     "output_type": "execute_result"
    }
   ],
   "source": [
    "mlp.release_mlp_model(model)"
   ]
  },
  {
   "cell_type": "code",
   "execution_count": null,
   "id": "f321dd55",
   "metadata": {},
   "outputs": [
    {
     "data": {
      "text/plain": [
       "-201418088"
      ]
     },
     "execution_count": 8,
     "metadata": {},
     "output_type": "execute_result"
    }
   ],
   "source": [
    "mlp.save_mlp_model(model, b\"mlp_trained.bin\")"
   ]
  },
  {
   "cell_type": "code",
   "execution_count": null,
   "id": "001055fa",
   "metadata": {},
   "outputs": [
    {
     "ename": "OSError",
     "evalue": "[WinError -1073741569] Windows Error 0xc00000ff",
     "output_type": "error",
     "traceback": [
      "\u001b[1;31m---------------------------------------------------------------------------\u001b[0m",
      "\u001b[1;31mOSError\u001b[0m                                   Traceback (most recent call last)",
      "Cell \u001b[1;32mIn[9], line 1\u001b[0m\n\u001b[1;32m----> 1\u001b[0m model_loaded \u001b[38;5;241m=\u001b[39m \u001b[43mmlp\u001b[49m\u001b[38;5;241;43m.\u001b[39;49m\u001b[43mload_mlp_model\u001b[49m\u001b[43m(\u001b[49m\u001b[38;5;124;43mb\u001b[39;49m\u001b[38;5;124;43m\"\u001b[39;49m\u001b[38;5;124;43mmlp_trained.bin\u001b[39;49m\u001b[38;5;124;43m\"\u001b[39;49m\u001b[43m)\u001b[49m\n",
      "\u001b[1;31mOSError\u001b[0m: [WinError -1073741569] Windows Error 0xc00000ff"
     ]
    }
   ],
   "source": [
    "model_loaded = mlp.load_mlp_model(b\"mlp_trained.bin\")"
   ]
  },
  {
   "cell_type": "code",
   "execution_count": null,
   "id": "e7f6c8f8",
   "metadata": {},
   "outputs": [
    {
     "name": "stdout",
     "output_type": "stream",
     "text": [
      "predicted class : zebre\n",
      "[0.956343948841095, 0.983494222164154, 0.9977808594703674]\n"
     ]
    }
   ],
   "source": [
    "img = Image.open('C:/Users/lgrdp/Downloads/images (10).jpeg').convert(\"RGB\")\n",
    "img = img.resize(size=(32,32))\n",
    "img_data = np.array(img) / 255.0\n",
    "\n",
    "output_array = mlp.predict_mlp_model(model, img_data.ctypes.data_as(ctypes.POINTER(ctypes.c_float)), True)\n",
    "output_array = ctypes.cast(output_array, ctypes.POINTER(ctypes.c_float * len(classnames_array))).contents\n",
    "output = list(output_array)\n",
    "class_index = 0\n",
    "for i in range(len(output)):\n",
    "    if output[i] == max(output):\n",
    "        class_index = i\n",
    "print('predicted class : ' + classnames_array[class_index])\n",
    "print(output)\n"
   ]
  }
 ],
 "metadata": {
  "kernelspec": {
   "display_name": "Python 3",
   "language": "python",
   "name": "python3"
  },
  "language_info": {
   "codemirror_mode": {
    "name": "ipython",
    "version": 3
   },
   "file_extension": ".py",
   "mimetype": "text/x-python",
   "name": "python",
   "nbconvert_exporter": "python",
   "pygments_lexer": "ipython3",
   "version": "3.10.6"
  }
 },
 "nbformat": 4,
 "nbformat_minor": 5
}
